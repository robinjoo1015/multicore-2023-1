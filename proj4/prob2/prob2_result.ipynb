{
 "cells": [
  {
   "cell_type": "code",
   "execution_count": 1,
   "id": "ca044744",
   "metadata": {},
   "outputs": [],
   "source": [
    "import numpy as np\n",
    "import matplotlib.pyplot as plt"
   ]
  },
  {
   "cell_type": "code",
   "execution_count": null,
   "id": "d328d3a3",
   "metadata": {},
   "outputs": [],
   "source": []
  },
  {
   "cell_type": "code",
   "execution_count": 2,
   "id": "15dab39e",
   "metadata": {},
   "outputs": [],
   "source": [
    "single_time_list = np.zeros((10), dtype=np.float64)"
   ]
  },
  {
   "cell_type": "code",
   "execution_count": 3,
   "id": "ca47a542",
   "metadata": {},
   "outputs": [
    {
     "name": "stdout",
     "output_type": "stream",
     "text": [
      "6.1193581\n",
      "6.104677238\n",
      "6.098675384\n",
      "6.102659347\n",
      "6.112095773\n",
      "6.116603409\n",
      "6.116586076\n",
      "6.128078087\n",
      "6.105001075\n",
      "6.097688487\n"
     ]
    }
   ],
   "source": [
    "for repeat in range(10):\n",
    "    output = ! ./omp_pi_one\n",
    "    single_time_list[repeat] = float(output[0].split(':')[1].split('sec')[0].strip())\n",
    "    print(single_time_list[repeat])"
   ]
  },
  {
   "cell_type": "code",
   "execution_count": 4,
   "id": "d9600cb9",
   "metadata": {},
   "outputs": [
    {
     "data": {
      "text/plain": [
       "6.1101422975999995"
      ]
     },
     "execution_count": 4,
     "metadata": {},
     "output_type": "execute_result"
    }
   ],
   "source": [
    "np.mean(single_time_list)"
   ]
  },
  {
   "cell_type": "code",
   "execution_count": null,
   "id": "d29d92bc",
   "metadata": {},
   "outputs": [],
   "source": []
  },
  {
   "cell_type": "code",
   "execution_count": 5,
   "id": "697a8e40",
   "metadata": {},
   "outputs": [],
   "source": [
    "thrust_time_list = np.zeros((10), dtype=np.float64)"
   ]
  },
  {
   "cell_type": "code",
   "execution_count": 6,
   "id": "10587cbb",
   "metadata": {},
   "outputs": [
    {
     "name": "stdout",
     "output_type": "stream",
     "text": [
      "0.784510498\n",
      "0.744109701\n",
      "0.732524801\n",
      "0.7469607\n",
      "0.7383032\n",
      "0.769473901\n",
      "0.734962201\n",
      "0.7396369\n",
      "0.771118201\n",
      "0.763424101\n"
     ]
    }
   ],
   "source": [
    "for repeat in range(10):\n",
    "    output = ! ./thrust_ex\n",
    "    thrust_time_list[repeat] = float(output[0].split(':')[1].split('sec')[0].strip())\n",
    "    print(thrust_time_list[repeat])"
   ]
  },
  {
   "cell_type": "code",
   "execution_count": 7,
   "id": "c44a9326",
   "metadata": {},
   "outputs": [
    {
     "data": {
      "text/plain": [
       "0.7525024204"
      ]
     },
     "execution_count": 7,
     "metadata": {},
     "output_type": "execute_result"
    }
   ],
   "source": [
    "np.mean(thrust_time_list)"
   ]
  },
  {
   "cell_type": "code",
   "execution_count": 8,
   "id": "cbdd5b00",
   "metadata": {},
   "outputs": [
    {
     "data": {
      "image/png": "[encoded data removed]",
      "text/plain": [
       "<Figure size 864x576 with 1 Axes>"
      ]
     },
     "metadata": {
      "needs_background": "light"
     },
     "output_type": "display_data"
    }
   ],
   "source": [
    "# plt.figure(figsize=(12,8))\n",
    "fig, ax = plt.subplots(figsize=(12,8))\n",
    "plt.bar(\n",
    "    x=[0,1], \n",
    "    height=[np.mean(single_time_list), np.mean(thrust_time_list)], \n",
    "    yerr=[np.std(single_time_list), np.std(thrust_time_list)],\n",
    "    align='center',\n",
    "    capsize=20,\n",
    ")\n",
    "# plt.xlim(-0.5, 1.5)\n",
    "ax.set_title('Execution Time')\n",
    "# plt.xlabel('Number of Thread')\n",
    "ax.set_xticks([0, 1])\n",
    "ax.set_xticklabels(['Single Thread', 'Thrust'])\n",
    "ax.set_ylabel('Execution Time $(sec)$')\n",
    "plt.tight_layout()\n",
    "plt.show()"
   ]
  },
  {
   "cell_type": "code",
   "execution_count": null,
   "id": "073d32fb",
   "metadata": {},
   "outputs": [],
   "source": []
  }
 ],
 "metadata": {
  "kernelspec": {
   "display_name": "Python 3 (ipykernel)",
   "language": "python",
   "name": "python3"
  },
  "language_info": {
   "codemirror_mode": {
    "name": "ipython",
    "version": 3
   },
   "file_extension": ".py",
   "mimetype": "text/x-python",
   "name": "python",
   "nbconvert_exporter": "python",
   "pygments_lexer": "ipython3",
   "version": "3.8.10"
  }
 },
 "nbformat": 4,
 "nbformat_minor": 5
}
